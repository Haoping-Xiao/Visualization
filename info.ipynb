{
 "cells": [
  {
   "cell_type": "code",
   "execution_count": 13,
   "metadata": {},
   "outputs": [
    {
     "data": {
      "image/png": "[encoded data removed]",
      "text/plain": [
       "<Figure size 432x288 with 1 Axes>"
      ]
     },
     "metadata": {},
     "output_type": "display_data"
    }
   ],
   "source": [
    "import matplotlib.pyplot as plt\n",
    "labels =['under $100', 'About $100', '$100 TO $200', '$200 TO $300' , 'MORE THAN $300']\n",
    "sizes = [22, 26, 39, 10, 3]\n",
    "\n",
    "\n",
    "plt.pie(sizes, autopct='%1.1d%%', startangle=90)\n",
    "\n",
    "ax1.axis('equal')  # Equal aspect ratio ensures that pie is drawn as a circle.\n",
    "plt.legend(labels)\n",
    "plt.show()"
   ]
  },
  {
   "cell_type": "code",
   "execution_count": 11,
   "metadata": {},
   "outputs": [
    {
     "name": "stdout",
     "output_type": "stream",
     "text": [
      "$100 TO $200\n"
     ]
    }
   ],
   "source": [
    "print('$100 TO $200')"
   ]
  },
  {
   "cell_type": "code",
   "execution_count": 1,
   "metadata": {},
   "outputs": [
    {
     "name": "stdout",
     "output_type": "stream",
     "text": [
      "      dateRep  day  month  year  cases  deaths countriesAndTerritories geoId  \\\n",
      "0  14/12/2020   14     12  2020    746       6             Afghanistan    AF   \n",
      "1  13/12/2020   13     12  2020    298       9             Afghanistan    AF   \n",
      "2  12/12/2020   12     12  2020    113      11             Afghanistan    AF   \n",
      "3  11/12/2020   11     12  2020     63      10             Afghanistan    AF   \n",
      "4  10/12/2020   10     12  2020    202      16             Afghanistan    AF   \n",
      "\n",
      "  countryterritoryCode  popData2019 continentExp  \\\n",
      "0                  AFG   38041757.0         Asia   \n",
      "1                  AFG   38041757.0         Asia   \n",
      "2                  AFG   38041757.0         Asia   \n",
      "3                  AFG   38041757.0         Asia   \n",
      "4                  AFG   38041757.0         Asia   \n",
      "\n",
      "   Cumulative_number_for_14_days_of_COVID-19_cases_per_100000  \n",
      "0                                           9.013779           \n",
      "1                                           7.052776           \n",
      "2                                           6.868768           \n",
      "3                                           7.134266           \n",
      "4                                           6.968658           \n"
     ]
    }
   ],
   "source": [
    "import pandas as pd\n",
    "\n",
    "data=pd.read_csv('./download.csv')\n",
    "print(data.head())"
   ]
  },
  {
   "cell_type": "code",
   "execution_count": 3,
   "metadata": {},
   "outputs": [
    {
     "name": "stdout",
     "output_type": "stream",
     "text": [
      "['dateRep', 'day', 'month', 'year', 'cases', 'deaths', 'countriesAndTerritories', 'geoId', 'countryterritoryCode', 'popData2019', 'continentExp', 'Cumulative_number_for_14_days_of_COVID-19_cases_per_100000']\n"
     ]
    }
   ],
   "source": [
    "print(list(data))"
   ]
  },
  {
   "cell_type": "code",
   "execution_count": 2,
   "metadata": {},
   "outputs": [
    {
     "data": {
      "text/plain": [
       "214"
      ]
     },
     "execution_count": 2,
     "metadata": {},
     "output_type": "execute_result"
    }
   ],
   "source": [
    "len(data['countriesAndTerritories'].unique().tolist())"
   ]
  }
 ],
 "metadata": {
  "kernelspec": {
   "display_name": "Python 3",
   "language": "python",
   "name": "python3"
  },
  "language_info": {
   "codemirror_mode": {
    "name": "ipython",
    "version": 3
   },
   "file_extension": ".py",
   "mimetype": "text/x-python",
   "name": "python",
   "nbconvert_exporter": "python",
   "pygments_lexer": "ipython3",
   "version": "3.8.6"
  },
  "varInspector": {
   "cols": {
    "lenName": 16,
    "lenType": 16,
    "lenVar": 40
   },
   "kernels_config": {
    "python": {
     "delete_cmd_postfix": "",
     "delete_cmd_prefix": "del ",
     "library": "var_list.py",
     "varRefreshCmd": "print(var_dic_list())"
    },
    "r": {
     "delete_cmd_postfix": ") ",
     "delete_cmd_prefix": "rm(",
     "library": "var_list.r",
     "varRefreshCmd": "cat(var_dic_list()) "
    }
   },
   "types_to_exclude": [
    "module",
    "function",
    "builtin_function_or_method",
    "instance",
    "_Feature"
   ],
   "window_display": false
  }
 },
 "nbformat": 4,
 "nbformat_minor": 4
}
